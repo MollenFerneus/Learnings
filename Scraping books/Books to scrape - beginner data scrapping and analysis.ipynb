{
 "cells": [
  {
   "cell_type": "markdown",
   "id": "34f9ac86-706d-40ed-86b1-dca95b7c17de",
   "metadata": {},
   "source": [
    "<span style=\"background-color:yellow; font-size:20px;\">Please run first the coding part. Then come back to re-run analysis part. Graphs won't work otherwise since the code needs to be run first</span>"
   ]
  },
  {
   "cell_type": "markdown",
   "id": "56a5b75d-5659-4cd7-b26a-a5562e6793e7",
   "metadata": {},
   "source": [
    "<span style=\"font-size:20px;\">For speeding up reviewing, all data have been saved into CSV file. Otherwise the scrapping takes ~5 minutes</span>"
   ]
  },
  {
   "cell_type": "markdown",
   "id": "99d5f1da-098e-4627-81f7-d85884ca47d3",
   "metadata": {},
   "source": [
    "In this notebook will be presented data analysing exercise using data on \"books.toscrape.com\" website.\n",
    "\n",
    "All data will be scrapped and analysed only using python libraries without using APIs (website doesn't even have one) for practice sake. "
   ]
  },
  {
   "cell_type": "markdown",
   "id": "637abba7-d8ce-4d59-97d1-2695c03b093b",
   "metadata": {},
   "source": [
    "\"books.toscrape.com\" website is a bookstore that contains data about book's titles, prices, rates etc. Since the website is made for practicing purpose, it's content is limited.\n"
   ]
  },
  {
   "cell_type": "markdown",
   "id": "3296cf09-5de1-41f9-9fe3-d6609eaaa8f9",
   "metadata": {},
   "source": [
    "Possible data about each book:\n",
    "- Title\n",
    "- Price\n",
    "- Rating (1-5)\n",
    "- Availability\n",
    "- Stock\n",
    "- Genre "
   ]
  },
  {
   "cell_type": "markdown",
   "id": "7d3d7f73-e4ec-4893-9b02-8c25d9f2aa34",
   "metadata": {},
   "source": [
    "1. **Amount of Books in the Store**\n",
    "2. **Duplicates**: Check for duplicate entries.\n",
    "3. **Availability**: Books in stock vs. out of stock.\n",
    "4. **Books Prices**: Sorted list and price range.\n",
    "5. **Books Ratings**: Sorted list and rating distribution.\n",
    "6. **Price vs. Rating Correlation**\n",
    "7. **Amount of Books per Genre**: Genre popularity.\n",
    "8. **Price Distribution**: Average, range, and standard deviation.\n",
    "9. **Genre vs. Price**"
   ]
  },
  {
   "cell_type": "markdown",
   "id": "81777933-5ce7-4ddc-a4c3-20401e2a332e",
   "metadata": {},
   "source": [
    "1. **Amount of books in the Store:** 1000 "
   ]
  },
  {
   "cell_type": "markdown",
   "id": "9604b84e-c5cf-4fd9-be3f-77a03556be6b",
   "metadata": {},
   "source": [
    "2. **Duplicates:** 1\n",
    "\n",
    "   Since the duplicate has different information details of price and stock it will be treated as a seperate title in further analysis."
   ]
  },
  {
   "cell_type": "code",
   "execution_count": null,
   "id": "9c3d6c5d-5a45-465a-a056-524b7a2188d3",
   "metadata": {},
   "outputs": [],
   "source": [
    "duplicates_library"
   ]
  },
  {
   "cell_type": "markdown",
   "id": "26637246-d76a-4887-bda3-836c5d12fc16",
   "metadata": {},
   "source": [
    "3. **Availability:** Books in stock vs. out of stock.\n",
    "\n",
    "   All books are labeled as \"in stock\".\n",
    "\n",
    "   Total amount of books in stock: 8585"
   ]
  },
  {
   "cell_type": "markdown",
   "id": "2b670d77-20ee-4431-9b5f-3472493d121b",
   "metadata": {},
   "source": [
    "4. **Books Prices**:\n",
    "\n",
    "    The most expensive book:\n",
    "\n",
    "   Title: \"the perfect play (play by play #1)\"\n",
    "\n",
    "   Price: £59.99\n",
    "   \n",
    "   \n",
    "\n",
    "   The cheapest book:\n",
    "\n",
    "   Title: \"an abundance of katherines\"\n",
    "\n",
    "   Price: £10.00\n",
    "\n",
    "   Books Prices graph:"
   ]
  },
  {
   "cell_type": "code",
   "execution_count": null,
   "id": "05dd5341-6c07-4350-a363-2d2566eaf3a1",
   "metadata": {},
   "outputs": [],
   "source": [
    "fig_price"
   ]
  },
  {
   "cell_type": "markdown",
   "id": "995f9d74-0fe0-4b28-b38e-637bebc78f84",
   "metadata": {},
   "source": [
    "5. **Books ratings:**"
   ]
  },
  {
   "cell_type": "code",
   "execution_count": null,
   "id": "7df4f832-66d2-437d-8361-1df226375bfa",
   "metadata": {},
   "outputs": [],
   "source": [
    "fig_rating"
   ]
  },
  {
   "cell_type": "markdown",
   "id": "6b5e3a59-ea07-4a1e-a335-e4da3eeabd8f",
   "metadata": {},
   "source": [
    "6. **Price vs. Rating Correlation:**"
   ]
  },
  {
   "cell_type": "code",
   "execution_count": null,
   "id": "115bd806-58ec-4910-9dae-7ccb8cbea5d9",
   "metadata": {},
   "outputs": [],
   "source": [
    "price_rating_corr"
   ]
  },
  {
   "cell_type": "markdown",
   "id": "73de1e51-d724-4747-a212-1c43a4ed32d5",
   "metadata": {},
   "source": [
    "Correlation calculated using pandas \"corr()\" function.\n",
    "\n",
    "Correlation: 0.028166239485872963\n",
    "\n",
    "Correlation close to 0 meaning no correlation between price and rating."
   ]
  },
  {
   "cell_type": "markdown",
   "id": "8411bc33-f102-4582-a749-d30d5c75f3bc",
   "metadata": {},
   "source": [
    "7. **Amount of Books per Genre:**"
   ]
  },
  {
   "cell_type": "code",
   "execution_count": null,
   "id": "09304e8c-15b9-4409-a4cb-a8b7f5862793",
   "metadata": {},
   "outputs": [],
   "source": [
    "fig_genres"
   ]
  },
  {
   "cell_type": "markdown",
   "id": "a8fc0635-d4be-47d2-a0c9-2e6456364313",
   "metadata": {},
   "source": [
    "Most popular: \"default\": 152, followed by \"nonfiction\": 110.\n",
    "\n",
    "Least popular: \"crime\", \"erotica\", \"novels\", \"cultural\", \"suspense\", \"short stories\", \"academic\", \"adult fiction\", \"parenting\", \"paranormal\": 1"
   ]
  },
  {
   "cell_type": "markdown",
   "id": "1ab27026-b97e-4043-a047-5fba9d7693c0",
   "metadata": {},
   "source": [
    "8. **Price distribution:**\n",
    "\n",
    "    Average price of a book: £35.07035 = ~£35.07\n",
    "    Price range: £49.99\n",
    "    Standard Deviation: 14.446689669952764 ~14.45\n",
    "\n",
    "    On average, the price of the books varies by £14.45 from the mean price of £35.07\n",
    "\n",
    "    Shapiro-Wilk Test:\n",
    "   Statistic = 0.9532239071596627,\n",
    "   p-value = 2.6180709475683377e-17\n",
    "\n",
    "   Statistic is close to 1 but not close enough.\n",
    "\n",
    "   Small p-value indicates the data does not follow normal distribution which shows on the graph below"
   ]
  },
  {
   "cell_type": "code",
   "execution_count": null,
   "id": "41aaa7b9-302c-4af2-b551-16a3651df26e",
   "metadata": {},
   "outputs": [],
   "source": [
    "fig_histogram"
   ]
  },
  {
   "cell_type": "markdown",
   "id": "9d948a84-d18a-455b-a62c-32a9ce4fe707",
   "metadata": {},
   "source": [
    "9. **Genre vs. Price**:\n",
    "    Average price per genre"
   ]
  },
  {
   "cell_type": "code",
   "execution_count": null,
   "id": "0a1c43e4-cdf4-436d-aabc-276efdaef021",
   "metadata": {},
   "outputs": [],
   "source": [
    "fig_genre_price"
   ]
  },
  {
   "cell_type": "markdown",
   "id": "e798106d-0185-4548-80d2-46913aa8b28e",
   "metadata": {},
   "source": []
  },
  {
   "cell_type": "markdown",
   "id": "fd287a92-7bae-4150-9953-e36ab57ae615",
   "metadata": {},
   "source": []
  },
  {
   "cell_type": "markdown",
   "id": "2da5d2af-4168-4079-a918-99b2d5f2ce5c",
   "metadata": {},
   "source": []
  },
  {
   "cell_type": "markdown",
   "id": "4d444ff0-887a-4794-a5dd-7734532598ae",
   "metadata": {},
   "source": [
    "<span style=\"background-color:yellow; font-size:20px;\">Coding begins here</span>"
   ]
  },
  {
   "cell_type": "markdown",
   "id": "cebc0f0b-1d37-4208-ad9a-d1c192ac50b1",
   "metadata": {},
   "source": [
    "\n",
    "\n",
    "Important libraries "
   ]
  },
  {
   "cell_type": "code",
   "execution_count": null,
   "id": "8501e378-3840-4f07-9d03-8dcafce71ccd",
   "metadata": {},
   "outputs": [],
   "source": [
    "import requests # Imports library to send a request to a website\n",
    "from bs4 import BeautifulSoup # Imports a library to clean website information that we request\n",
    "import pandas as pd # Imports pandas\n",
    "import plotly.express as px # Imports plotly\n",
    "\n",
    "from scipy.stats import shapiro # Imports Shapiro Wilk test of normality for data distribution"
   ]
  },
  {
   "cell_type": "markdown",
   "id": "46a2c6fb-6616-4206-83a5-a1d30397800f",
   "metadata": {},
   "source": [
    "Function to add a book with it's information into library (dictionary)"
   ]
  },
  {
   "cell_type": "code",
   "execution_count": null,
   "id": "84769f8a-3525-43a5-997c-d35cce0502fe",
   "metadata": {},
   "outputs": [],
   "source": [
    "# Function to add a book with automatic ID\n",
    "\n",
    "\n",
    "def add_book(library, title, price, rating, stock, genre, available=True):\n",
    "    # Generate an automatic ID based on the current size of the library\n",
    "    book_id = str(len(library) + 1)\n",
    "    \n",
    "    if book_id in library:\n",
    "        print(f\"Book ID {book_id} already exists. This should not happen!\")\n",
    "        return\n",
    "            \n",
    "    \n",
    "    library[book_id] = {\n",
    "        \"title\": title,\n",
    "        \"price\": price,\n",
    "        \"rating\": rating,\n",
    "        \"stock\": stock,\n",
    "        \"genre\": genre,\n",
    "        \"available\": available\n",
    "        \n",
    "    }\n",
    "    print(f\"Book '{title}' added successfully with ID {book_id}.\")"
   ]
  },
  {
   "cell_type": "markdown",
   "id": "c52fa04e-487c-4998-bbd8-59278fe0a08c",
   "metadata": {},
   "source": [
    "Checks if a title appears twice in the library, if so, prints both with all the details."
   ]
  },
  {
   "cell_type": "markdown",
   "id": "043b9db3-450e-4a89-b59c-0f45bb9fc406",
   "metadata": {},
   "source": [
    "\"Clean_duplicates()\" can't be run twice without declaring the variables anew (remove it's content), since it's gonna add duplicates all over again. Making a function to check duplicates library for duplicates iterating not only title but also price is not worth the time for this project."
   ]
  },
  {
   "cell_type": "code",
   "execution_count": null,
   "id": "4a607ba5-1b49-486f-99f3-c22e603827e6",
   "metadata": {},
   "outputs": [],
   "source": [
    "def clean_duplicates(library):\n",
    "\n",
    "    for i in library:\n",
    "        # Get the book title\n",
    "        book_title = library[i][\"title\"] #string containing title of a book\n",
    "        book_info = library[i] #dictionary information about the book\n",
    "        \n",
    "        if book_title not in seen:\n",
    "            unique_library[i] = book_info #add book information to a new library\n",
    "            #print(unique_library[i])\n",
    "            seen.add(book_title) #adds book's title into a set (can't contain duplicates)\n",
    "            \n",
    "        else: #if the title was seen in the verification set\n",
    "            for n in unique_library: \n",
    "                if unique_library[n][\"title\"] == book_title: #compares titles\n",
    "                    \n",
    "                    duplicates_library[str(len(duplicates_library) + 1)] = book_info\n",
    "                    duplicates_library[str(len(duplicates_library) + 1)] = unique_library[n]\n",
    "                    \n",
    "                    print(\"Duplicate: \\n\", book_info)\n",
    "                    print(\"Book in library: \\n\", unique_library[n], \"\\n\")                                           \n",
    "\n",
    "\n",
    "    print(\"Books in library before checking for duplicates:\", len(library))\n",
    "    print(\"Books in library after deleting duplicates:\", len(unique_library))\n"
   ]
  },
  {
   "cell_type": "markdown",
   "id": "d0534122-967f-48c0-9458-b22c7b93dea3",
   "metadata": {},
   "source": [
    "A loop that gets data from a website about books. It saves all details into \"library\". Repeats each page."
   ]
  },
  {
   "cell_type": "markdown",
   "id": "83d9ba12-a0d0-4e66-8b98-259a5b2733d4",
   "metadata": {},
   "source": [
    "This function is really slow since it's going into every link of every book (1000 books) and scrapping the data from there.\n",
    "It could be done by scrapping the data from the catalogue pages directly (~20 books per page) significantly increasing the scrapping time, but the data will lack genre and stock (amount) informations. \n",
    "\n"
   ]
  },
  {
   "cell_type": "markdown",
   "id": "f5ba985d-980a-4da2-9b4c-373ffc02efad",
   "metadata": {},
   "source": [
    "A decision has been made to make it slower but scrapping more information."
   ]
  },
  {
   "cell_type": "code",
   "execution_count": null,
   "id": "43ba85f6-8e14-4a87-8264-40465bf99e42",
   "metadata": {},
   "outputs": [],
   "source": [
    "def get_books():\n",
    "    page = 1\n",
    "    while True:\n",
    "        url = f\"http://books.toscrape.com/catalogue/page-{page}.html\"\n",
    "        print(\"\\nPage:\", page, \"| URL:\", url)\n",
    "        \n",
    "        try:\n",
    "            response = requests.get(url)\n",
    "            response.raise_for_status()  # Will raise HTTPError if the response code is 4xx/5xx\n",
    "            print(\"Connecting to website succesful\\n\")\n",
    "        except requests.exceptions.RequestException as e:\n",
    "            print(f\"Error: {e}\")\n",
    "            break\n",
    "        \n",
    "        soup = BeautifulSoup(response.text, \"html.parser\")\n",
    "        book_info = soup.find_all(\"h3\")\n",
    "        \n",
    "        if not book_info:  # If no books are found, stop\n",
    "            print(\"No more books found.\")\n",
    "            break\n",
    "        \n",
    "        for link in book_info:\n",
    "            href = link.find(\"a\")[\"href\"]\n",
    "            book_url = f\"http://books.toscrape.com/catalogue/{href}\"\n",
    "            \n",
    "            try:\n",
    "                response = requests.get(book_url)\n",
    "                response.raise_for_status()\n",
    "            except requests.exceptions.RequestException as e:\n",
    "                print(f\"Error fetching book details: {e}\")\n",
    "                continue  # Skip this book and proceed to the next\n",
    "            \n",
    "            soup = BeautifulSoup(response.text, \"html.parser\")\n",
    "            \n",
    "            title = soup.find(\"li\", class_=\"active\").text.strip().lower()\n",
    "            rating = soup.find(\"p\", class_=\"star-rating\")[\"class\"][1].strip().lower()\n",
    "            price = soup.find(\"p\", class_=\"price_color\").text[2:].strip()\n",
    "            genre = soup.find(\"ul\", class_=\"breadcrumb\").find_all(\"a\")[2].text.lower()\n",
    "            \n",
    "            storage = soup.find(\"p\", class_=\"instock availability\").text.strip().lower().split()\n",
    "            stock = int(storage[2][1:])\n",
    "            in_stock = \" \".join(storage[:2])\n",
    "            available = in_stock == \"in stock\"\n",
    "            \n",
    "            add_book(library, title, price, rating, stock, genre, available)\n",
    "        \n",
    "        page += 1"
   ]
  },
  {
   "cell_type": "markdown",
   "id": "7be96aeb-3708-4027-8c82-474324bb2e70",
   "metadata": {},
   "source": [
    "<span style=\"background-color:yellow; font-size:20px;\">Don't run the code below. It will scrap the data in real time. Instead skip the \"get_books()\" code and continue with the \"read_csv\"</span>"
   ]
  },
  {
   "cell_type": "markdown",
   "id": "b7baa126-860f-48ea-8ab8-2c74138ed4c3",
   "metadata": {},
   "source": [
    "Checks if the library has any duplicates, if does, prints them and creates a new library without duplicates."
   ]
  },
  {
   "cell_type": "code",
   "execution_count": null,
   "id": "dc75d713-3967-44ec-84ab-e7d78366a355",
   "metadata": {
    "scrolled": true
   },
   "outputs": [],
   "source": [
    "library = {}  # Library containing ALL books, even duplicates\n",
    "get_books()"
   ]
  },
  {
   "cell_type": "code",
   "execution_count": null,
   "id": "c43f1b9e-cae1-4dc6-8b94-d1128d270fa5",
   "metadata": {},
   "outputs": [],
   "source": [
    "seen = set() # Set that can't contain duplicates, used for a verification purpose  \n",
    "duplicates_library = {} # Library containing only books that have been duplicated (both original and duplicate)\n",
    "unique_library = {} # Library containing books without duplicates\n",
    "\n",
    "clean_duplicates(library)"
   ]
  },
  {
   "cell_type": "code",
   "execution_count": null,
   "id": "d594eb8e-3c4e-47a2-836d-f6be4edfef81",
   "metadata": {},
   "outputs": [],
   "source": [
    "duplicates_library"
   ]
  },
  {
   "cell_type": "markdown",
   "id": "3eaf87eb-0149-4364-aca5-cf91fc04a412",
   "metadata": {},
   "source": [
    "Making a dataframe out of a dictionary"
   ]
  },
  {
   "cell_type": "code",
   "execution_count": null,
   "id": "1756148b-7512-435d-b6d4-383e5f506376",
   "metadata": {},
   "outputs": [],
   "source": [
    "df = pd.DataFrame.from_dict(library).T # Read library as dataframe for analysis (transcend for convenience)"
   ]
  },
  {
   "cell_type": "code",
   "execution_count": null,
   "id": "47469e5a-9b6e-4aa2-8521-22d10a3f0397",
   "metadata": {},
   "outputs": [],
   "source": [
    "df.to_csv(\"books_to_scrap.csv\", index=\"False\")  # Saves with index"
   ]
  },
  {
   "cell_type": "markdown",
   "id": "68e28977-8fc6-46b5-88c7-50d678306784",
   "metadata": {},
   "source": [
    "<span style=\"background-color:yellow; font-size:20px;\">To read the CSV start below and continue from here. It will use already scrapped data from CSV file</span>"
   ]
  },
  {
   "cell_type": "code",
   "execution_count": null,
   "id": "9f49049a-aa3c-4693-8244-cf1b83f1f84b",
   "metadata": {},
   "outputs": [],
   "source": [
    "df = pd.read_csv(\"https://raw.githubusercontent.com/MollenFerneus/Data_Projects_Scrapping_Books/refs/heads/main/books_to_scrap.csv\",index_col=0)  # Replace with your actual file name"
   ]
  },
  {
   "cell_type": "code",
   "execution_count": null,
   "id": "2c749be1-34f9-4c3b-8d7e-3279c9ce0a12",
   "metadata": {},
   "outputs": [],
   "source": [
    "word_to_number = {\"one\": 1, \"two\": 2, \"three\": 3, \"four\": 4,\"five\":5}\n",
    "df[\"rating\"] = df[\"rating\"].replace(word_to_number) # Changes the rating from a word to a number"
   ]
  },
  {
   "cell_type": "code",
   "execution_count": null,
   "id": "672cc3a6-9ae6-48f1-9500-864b70b4c404",
   "metadata": {},
   "outputs": [],
   "source": [
    "df[\"price\"] = pd.to_numeric(df[\"price\"]) # Changes the price from a string to an integer"
   ]
  },
  {
   "cell_type": "markdown",
   "id": "039745f7-8a8f-4f8c-b13e-51980b6448f4",
   "metadata": {},
   "source": [
    "Change rating string to integer"
   ]
  },
  {
   "cell_type": "markdown",
   "id": "ea408b45-cd1f-4c9e-aa85-67c37c6542cb",
   "metadata": {},
   "source": [
    "Change price to integer not string"
   ]
  },
  {
   "cell_type": "markdown",
   "id": "d2ccc350-a6f2-45f4-a5a2-04e4b4d251bd",
   "metadata": {},
   "source": [
    "________________________________________________________________"
   ]
  },
  {
   "cell_type": "markdown",
   "id": "9cf7bdb5-b574-40b1-b5fb-d0bfa39f4bd8",
   "metadata": {},
   "source": [
    "1. **Book availability.** Check how many books are available/unavailable in the store."
   ]
  },
  {
   "cell_type": "code",
   "execution_count": null,
   "id": "685a9939-e13a-4dd6-9fb9-916df08bd7f0",
   "metadata": {},
   "outputs": [],
   "source": [
    "df_not_in_stock = df[df[\"available\"] == False]\n",
    "df_not_in_stock"
   ]
  },
  {
   "cell_type": "markdown",
   "id": "0725f02e-d7a0-4015-94bb-2e818f5bba94",
   "metadata": {},
   "source": [
    "________________________________________________________________"
   ]
  },
  {
   "cell_type": "markdown",
   "id": "4e905a71-2f8a-43c3-a105-92f86e528382",
   "metadata": {},
   "source": [
    "3. **Availability**: Books in stock vs. out of stock."
   ]
  },
  {
   "cell_type": "code",
   "execution_count": null,
   "id": "c48f6aff-1ad2-4685-a336-77fa25917f4f",
   "metadata": {},
   "outputs": [],
   "source": [
    "df_stock = df[[\"title\", \"stock\"]]\n",
    "df_stock.sort_values(by = \"stock\", ascending = False)"
   ]
  },
  {
   "cell_type": "markdown",
   "id": "2a1f30cd-08e3-46c4-b7d1-e0baa180c4bd",
   "metadata": {},
   "source": [
    "Sum all the books in the store."
   ]
  },
  {
   "cell_type": "code",
   "execution_count": null,
   "id": "3e94f231-f43d-49cb-9313-a31ce10b7a70",
   "metadata": {},
   "outputs": [],
   "source": [
    "df_stock[\"stock\"].sum()"
   ]
  },
  {
   "cell_type": "code",
   "execution_count": null,
   "id": "414ac410-0231-436a-bdcf-661cc39cf6f3",
   "metadata": {},
   "outputs": [],
   "source": [
    "df"
   ]
  },
  {
   "cell_type": "markdown",
   "id": "9df2d17e-ff1c-4c71-9424-dab48fa513c7",
   "metadata": {},
   "source": [
    "_____________________________________"
   ]
  },
  {
   "cell_type": "markdown",
   "id": "3c269fb2-e77b-4788-95de-adf2b355b8d3",
   "metadata": {},
   "source": [
    "4. **Sort books by price.**"
   ]
  },
  {
   "cell_type": "code",
   "execution_count": null,
   "id": "a94e2566-82fd-4241-893b-bb87c0537412",
   "metadata": {},
   "outputs": [],
   "source": [
    "df_price = df[[\"title\",\"price\"]]\n",
    "df_price.sort_values(by = \"price\", ascending = False)\n"
   ]
  },
  {
   "cell_type": "code",
   "execution_count": null,
   "id": "8dc74514-aba5-4371-bf2d-8e1de24efbb4",
   "metadata": {},
   "outputs": [],
   "source": [
    "fig_price = px.bar(df, x=df.index.astype(str),y=\"price\").update_xaxes(categoryorder='total ascending')\n",
    "fig_price.update_layout(\n",
    "    xaxis_title='Index',  # Change X-axis title\n",
    "    yaxis_title='Price'  # Change Y-axis title\n",
    ")"
   ]
  },
  {
   "cell_type": "markdown",
   "id": "a55d8119-382c-4ed9-8cf3-cd75882f1bd0",
   "metadata": {},
   "source": [
    "____________________________"
   ]
  },
  {
   "cell_type": "markdown",
   "id": "8cac8988-c168-45e3-a995-bd6a91117614",
   "metadata": {},
   "source": [
    "5. **Rating and rating distribution**"
   ]
  },
  {
   "cell_type": "code",
   "execution_count": null,
   "id": "67e86cbc-8fa2-48e3-b060-d276d9d09cd9",
   "metadata": {},
   "outputs": [],
   "source": [
    "df_rating = df[\"rating\"].value_counts()\n",
    "df_rating"
   ]
  },
  {
   "cell_type": "code",
   "execution_count": null,
   "id": "536a78b4-7a4a-4a8f-b767-564f9790409c",
   "metadata": {},
   "outputs": [],
   "source": [
    "fig_rating = px.bar(df_rating, text_auto=\"True\")\n",
    "\n",
    "fig_rating.update_layout(\n",
    "    xaxis_title='Rating',  # Change X-axis title\n",
    "    yaxis_title='Number of Books'  # Change Y-axis title\n",
    ")"
   ]
  },
  {
   "cell_type": "markdown",
   "id": "ad2df6ab-6de6-4434-9b9e-bc974032dc1f",
   "metadata": {},
   "source": [
    "_____________________________"
   ]
  },
  {
   "cell_type": "markdown",
   "id": "35cd441f-a8a6-48ec-9a8f-630bd0a56216",
   "metadata": {},
   "source": [
    "6. **Price vs Rating Correlation**"
   ]
  },
  {
   "cell_type": "code",
   "execution_count": null,
   "id": "e297a0f3-191d-4b40-9450-a82c58b89ea9",
   "metadata": {},
   "outputs": [],
   "source": [
    "df_price_rating = df[[\"price\",\"rating\"]]\n",
    "df_price_rating"
   ]
  },
  {
   "cell_type": "code",
   "execution_count": null,
   "id": "91374d75-6662-423f-a526-bccbb1621e6f",
   "metadata": {},
   "outputs": [],
   "source": [
    "price_rating_corr = df[\"price\"].corr(df[\"rating\"])"
   ]
  },
  {
   "cell_type": "code",
   "execution_count": null,
   "id": "2ad6b3bc-fa47-484c-be3d-7dca6bef6216",
   "metadata": {},
   "outputs": [],
   "source": [
    "price_rating_corr"
   ]
  },
  {
   "cell_type": "markdown",
   "id": "0d58360b-ab4a-4265-89fb-386bba89bcde",
   "metadata": {},
   "source": [
    "____________________________________"
   ]
  },
  {
   "cell_type": "markdown",
   "id": "c269bfbb-dc45-45c4-b1ca-36d2033f342f",
   "metadata": {},
   "source": [
    "7. **Genre distribution**"
   ]
  },
  {
   "cell_type": "code",
   "execution_count": null,
   "id": "0a2e87b9-2807-46d1-b9c8-3cf03526072a",
   "metadata": {
    "scrolled": true
   },
   "outputs": [],
   "source": [
    "df_genre = df[\"genre\"].value_counts()\n",
    "df_genre"
   ]
  },
  {
   "cell_type": "code",
   "execution_count": null,
   "id": "f209f8b9-455b-437a-9671-4aa35832a5f5",
   "metadata": {},
   "outputs": [],
   "source": [
    "fig_genres = px.bar(df_genre, text_auto=\"True\")\n",
    "fig_genres.update_layout(\n",
    "    xaxis_title='Book Genre',  # Change X-axis title\n",
    "    yaxis_title='Number of Books'  # Change Y-axis title\n",
    ")\n"
   ]
  },
  {
   "cell_type": "markdown",
   "id": "50d7bf8d-d1d5-4490-95eb-29dfbac83b7d",
   "metadata": {},
   "source": [
    "__________________________________________________"
   ]
  },
  {
   "cell_type": "markdown",
   "id": "219d7fbf-70c9-4550-86d0-c1aa815aafca",
   "metadata": {},
   "source": [
    "8. **Price Distribution**"
   ]
  },
  {
   "cell_type": "code",
   "execution_count": null,
   "id": "7a0b48d5-aefd-4783-91d5-805ce2dd8c34",
   "metadata": {},
   "outputs": [],
   "source": [
    "price_range = df['price'].max() - df['price'].min()\n",
    "price_range"
   ]
  },
  {
   "cell_type": "code",
   "execution_count": null,
   "id": "d22ba0c8-441d-415a-acae-7726a3817b55",
   "metadata": {},
   "outputs": [],
   "source": [
    "price_average = df[\"price\"].mean()\n",
    "price_average"
   ]
  },
  {
   "cell_type": "code",
   "execution_count": null,
   "id": "a03a3108-cba6-4a19-a1f0-f4232000b09c",
   "metadata": {},
   "outputs": [],
   "source": [
    "price_SD = df[\"price\"].std()\n",
    "price_SD"
   ]
  },
  {
   "cell_type": "code",
   "execution_count": null,
   "id": "a5daa35c-7aeb-45cf-beb8-21a5649ba8d7",
   "metadata": {},
   "outputs": [],
   "source": [
    "stat, p_value = shapiro(df['price'])\n",
    "print(f\"Shapiro-Wilk Test: Stat={stat}, p-value={p_value}\")"
   ]
  },
  {
   "cell_type": "code",
   "execution_count": null,
   "id": "750d4dbf-8fc9-4976-8d96-b4a704253da9",
   "metadata": {},
   "outputs": [],
   "source": [
    "fig_histogram = px.histogram(df[\"price\"], nbins=10, title=\"Histogram Showing Distribution\")\n",
    "fig_histogram.update_layout(\n",
    "    xaxis_title='Price',  # Change X-axis title\n",
    "    yaxis_title='Number of Books'  # Change Y-axis title\n",
    ")\n"
   ]
  },
  {
   "cell_type": "markdown",
   "id": "985a7f0d-7ae8-467b-a22e-84be73fa7f49",
   "metadata": {},
   "source": [
    "____________________________________"
   ]
  },
  {
   "cell_type": "markdown",
   "id": "9463269f-e6c0-49df-9f11-2a7c96ac2925",
   "metadata": {},
   "source": [
    "9. **Genre vs. Price**"
   ]
  },
  {
   "cell_type": "code",
   "execution_count": null,
   "id": "ed024b71-699c-4dfd-b617-f85e032d27f0",
   "metadata": {
    "scrolled": true
   },
   "outputs": [],
   "source": [
    "df_genre_price = df[[\"price\", \"genre\"]]\n",
    "df_genre_price = df_genre_price.groupby('genre')['price'].mean().reset_index()"
   ]
  },
  {
   "cell_type": "code",
   "execution_count": null,
   "id": "10fbe5d4-f3f5-4cb6-923c-1ed24681664c",
   "metadata": {},
   "outputs": [],
   "source": [
    "fig_genre_price = px.bar(df_genre_price, x=\"genre\",y=\"price\").update_xaxes(categoryorder = \"total ascending\")\n",
    "fig_genre_price"
   ]
  },
  {
   "cell_type": "code",
   "execution_count": null,
   "id": "125b4548-03b2-43a7-9dc3-31cbec92b38b",
   "metadata": {},
   "outputs": [],
   "source": []
  },
  {
   "cell_type": "code",
   "execution_count": null,
   "id": "7fe54af3-afcd-43ed-8129-80820c1a0400",
   "metadata": {},
   "outputs": [],
   "source": []
  }
 ],
 "metadata": {
  "kernelspec": {
   "display_name": "Python 3 (ipykernel)",
   "language": "python",
   "name": "python3"
  },
  "language_info": {
   "codemirror_mode": {
    "name": "ipython",
    "version": 3
   },
   "file_extension": ".py",
   "mimetype": "text/x-python",
   "name": "python",
   "nbconvert_exporter": "python",
   "pygments_lexer": "ipython3",
   "version": "3.13.1"
  }
 },
 "nbformat": 4,
 "nbformat_minor": 5
}
